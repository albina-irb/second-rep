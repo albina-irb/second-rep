{
  "nbformat": 4,
  "nbformat_minor": 0,
  "metadata": {
    "colab": {
      "provenance": [],
      "authorship_tag": "ABX9TyPPtig1yKl9r5GC5wBfugOW",
      "include_colab_link": true
    },
    "kernelspec": {
      "name": "python3",
      "display_name": "Python 3"
    },
    "language_info": {
      "name": "python"
    }
  },
  "cells": [
    {
      "cell_type": "markdown",
      "metadata": {
        "id": "view-in-github",
        "colab_type": "text"
      },
      "source": [
        "<a href=\"https://colab.research.google.com/github/albina-irb/second-rep/blob/main/Untitled4.ipynb\" target=\"_parent\"><img src=\"https://colab.research.google.com/assets/colab-badge.svg\" alt=\"Open In Colab\"/></a>"
      ]
    },
    {
      "cell_type": "code",
      "source": [
        "login = input(\"Логин:\")\n",
        "password = input(\"Пароль:\")\n",
        "if login == \"student\" and password == \"0000\":\n",
        " print(\"Вход разрешен!\")\n",
        "else:\n",
        " print(\"Ошибка. Вход запрещен\")"
      ],
      "metadata": {
        "id": "FXMZrN-nwS1K"
      },
      "execution_count": null,
      "outputs": []
    }
  ]
}